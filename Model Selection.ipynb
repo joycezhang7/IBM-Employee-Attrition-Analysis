{
 "cells": [
  {
   "cell_type": "markdown",
   "metadata": {},
   "source": [
    "# Import Data"
   ]
  },
  {
   "cell_type": "code",
   "execution_count": 1,
   "metadata": {},
   "outputs": [],
   "source": [
    "\n",
    "import pandas as pd\n",
    "import numpy as np\n",
    "np.random.seed(42)\n",
    "IBMData = pd.read_csv('C:\\\\Users\\\\Joyce\\\\Desktop\\\\Emory MSBA\\\\Intro to BA\\\\IBM Project\\\\IBM-HR-Employee-Attrition.csv')\n",
    "\n",
    "\n",
    "IBMData['Attrition'] = IBMData['Attrition'].map({'Yes': 1, 'No': 0})\n",
    "\n",
    "#Remove unvalue attritbues\n",
    "IBMData = IBMData.drop(columns=['EmployeeNumber','StandardHours','Over18','EmployeeCount','Department','EducationField',\n",
    "                               'Gender','JobRole','YearsWithCurrManager'])\n",
    "\n",
    "#Some attributes are numerical in the dataset, but actually they are categorical \n",
    "IBMData['Education']=pd.Categorical(IBMData.Education)\n",
    "IBMData['EnvironmentSatisfaction']=pd.Categorical(IBMData.EnvironmentSatisfaction)\n",
    "IBMData['JobInvolvement']=pd.Categorical(IBMData.JobInvolvement)\n",
    "IBMData['JobLevel']=pd.Categorical(IBMData.JobLevel)\n",
    "IBMData['JobSatisfaction']=pd.Categorical(IBMData.JobSatisfaction)\n",
    "IBMData['PerformanceRating']=pd.Categorical(IBMData.PerformanceRating)\n",
    "IBMData['RelationshipSatisfaction']=pd.Categorical(IBMData.RelationshipSatisfaction)\n",
    "IBMData['WorkLifeBalance']=pd.Categorical(IBMData.WorkLifeBalance)\n",
    "IBMData['StockOptionLevel']=pd.Categorical(IBMData.StockOptionLevel)"
   ]
  },
  {
   "cell_type": "markdown",
   "metadata": {},
   "source": [
    "# Data Processing and Preparation"
   ]
  },
  {
   "cell_type": "code",
   "execution_count": 2,
   "metadata": {},
   "outputs": [],
   "source": [
    "IBMData['BusinessTravel'] = IBMData['BusinessTravel'].map({'Non-Travel': 0, 'Travel_Rarely': 1, 'Travel_Frequently': 2})\n",
    "IBMData['MaritalStatus'] = IBMData['MaritalStatus'].map({'Single': 0, 'Married': 1, 'Divorced': 2})\n",
    "IBMData['OverTime'] = IBMData['OverTime'].map({'No': 0, 'Yes': 1})\n",
    "\n",
    "\n",
    "FEATURE_NAMES = ['Age',\n",
    " 'BusinessTravel',\n",
    " 'DailyRate',\n",
    " 'DistanceFromHome',\n",
    " 'Education',\n",
    " 'HourlyRate',\n",
    " 'JobLevel',\n",
    " 'MaritalStatus',\n",
    " 'MonthlyIncome',\n",
    " 'MonthlyRate',\n",
    " 'NumCompaniesWorked',\n",
    " 'OverTime',\n",
    " 'PercentSalaryHike',\n",
    " 'PerformanceRating',\n",
    " 'StockOptionLevel',\n",
    "'TotalSatisfaction',\n",
    " 'TotalWorkingYears',\n",
    " 'TrainingTimesLastYear',\n",
    " 'YearsAtCompany',\n",
    " 'YearsInCurrentRole', \n",
    " 'DistanceFromHome',\n",
    " 'YearsSinceLastPromotion'\n",
    " ]\n"
   ]
  },
  {
   "cell_type": "markdown",
   "metadata": {},
   "source": [
    "## Feature Engineering"
   ]
  },
  {
   "cell_type": "code",
   "execution_count": 3,
   "metadata": {},
   "outputs": [],
   "source": [
    "\n",
    "IBMData['TotalSatisfaction'] = IBMData.loc[:, ['EnvironmentSatisfaction','JobInvolvement','JobSatisfaction',\n",
    "                                              'RelationshipSatisfaction','WorkLifeBalance']].sum(axis=1)\n",
    "IBMData['TotalSatisfaction'].describe()\n",
    "\n",
    "#Declare X and y\n",
    "X = IBMData[['Age',\n",
    " 'BusinessTravel',\n",
    " 'DailyRate',\n",
    " 'DistanceFromHome',\n",
    " 'Education',\n",
    " 'HourlyRate',\n",
    " 'JobLevel',\n",
    " 'MaritalStatus',\n",
    " 'MonthlyIncome',\n",
    " 'MonthlyRate',\n",
    " 'NumCompaniesWorked',\n",
    " 'OverTime',\n",
    " 'PercentSalaryHike',\n",
    " 'PerformanceRating',\n",
    " 'StockOptionLevel',\n",
    " 'TotalSatisfaction',\n",
    " 'TotalWorkingYears',\n",
    " 'TrainingTimesLastYear',\n",
    " 'YearsAtCompany',\n",
    " 'YearsInCurrentRole',\n",
    "'DistanceFromHome',\n",
    " 'YearsSinceLastPromotion'\n",
    "]].values\n",
    "y = IBMData['Attrition'].values\n"
   ]
  },
  {
   "cell_type": "markdown",
   "metadata": {},
   "source": [
    "## Make Target Variable Balanced"
   ]
  },
  {
   "cell_type": "code",
   "execution_count": 4,
   "metadata": {},
   "outputs": [
    {
     "name": "stdout",
     "output_type": "stream",
     "text": [
      "Number of class 1 (Attrition) samples before: 237\n",
      "Number of class 1 (Attrition) samples after: 1233\n"
     ]
    }
   ],
   "source": [
    "from sklearn.utils import resample\n",
    "\n",
    "# Number of class 1 samples before\n",
    "print('Number of class 1 (Attrition) samples before:', X[y == 1].shape[0])\n",
    "\n",
    "X_upsampled, y_upsampled = resample(X[y == 1], # Indexable data-structures as input\n",
    "                                    y[y == 1],\n",
    "                                    replace=True,      # Implements resampling with replacement.\n",
    "                                    n_samples=X[y == 0].shape[0], # Number of samples to generate i.e., 357\n",
    "                                    random_state=42) # The seed of the pseudo random number generator to use when shuffling the data\n",
    "\n",
    "# Number of class 1 samples after oversampling rare class\n",
    "print('Number of class 1 (Attrition) samples after:', X_upsampled.shape[0])"
   ]
  },
  {
   "cell_type": "code",
   "execution_count": 7,
   "metadata": {},
   "outputs": [
    {
     "data": {
      "text/plain": [
       "50.0"
      ]
     },
     "execution_count": 7,
     "metadata": {},
     "output_type": "execute_result"
    }
   ],
   "source": [
    "# After resampling, we can stack the original class 0 with the upsampled class 1 subset to obtain a balanced dataset\n",
    "# as follows:\n",
    "\n",
    "X = np.vstack((X[y == 0], X_upsampled))\n",
    "y = np.hstack((y[y == 0], y_upsampled))\n",
    "\n",
    "# Consequently if we were to predict the accuracy of the model that always predicts the majority class ~50%\n",
    "y_pred = np.zeros(y.shape[0])\n",
    "np.mean(y_pred == y) * 100"
   ]
  },
  {
   "cell_type": "code",
   "execution_count": 8,
   "metadata": {},
   "outputs": [],
   "source": [
    "############################################## Split the Data ##############################################\n",
    "np.random.seed(42)\n",
    "from sklearn.model_selection import train_test_split\n",
    "\n",
    "X_train, X_test, y_train, y_test = train_test_split(\n",
    "    X, y, test_size=0.2, random_state=42, stratify=y)"
   ]
  },
  {
   "cell_type": "markdown",
   "metadata": {},
   "source": [
    "# Model Selection : Logistic Regression, Decision Tree, kNN"
   ]
  },
  {
   "cell_type": "code",
   "execution_count": 13,
   "metadata": {},
   "outputs": [
    {
     "name": "stdout",
     "output_type": "stream",
     "text": [
      "10-fold cross validation:\n",
      "\n",
      "ROC AUC: 0.83 (+/- 0.03) [Logistic Regression]\n",
      "ROC AUC: 0.93 (+/- 0.01) [Decision Tree]\n",
      "ROC AUC: 0.88 (+/- 0.01) [KNN]\n"
     ]
    },
    {
     "data": {
      "image/png": "[encoded data removed]",
      "text/plain": [
       "<Figure size 432x288 with 1 Axes>"
      ]
     },
     "metadata": {
      "needs_background": "light"
     },
     "output_type": "display_data"
    }
   ],
   "source": [
    "import numpy as np\n",
    "from sklearn.linear_model import LogisticRegression\n",
    "from sklearn.tree import DecisionTreeClassifier\n",
    "from sklearn.neighbors import KNeighborsClassifier \n",
    "from sklearn.metrics import roc_curve\n",
    "from sklearn.metrics import auc\n",
    "from sklearn.model_selection import GridSearchCV, KFold, cross_val_score\n",
    "import matplotlib.pyplot as plt\n",
    "\n",
    "from  warnings import simplefilter\n",
    "from sklearn.exceptions import ConvergenceWarning\n",
    "simplefilter(\"ignore\", category=ConvergenceWarning)\n",
    "import warnings\n",
    "warnings.filterwarnings('always')  # \"error\", \"ignore\", \"always\", \"default\", \"module\" or \"once\"\n",
    "warnings.filterwarnings('ignore')\n",
    "\n",
    "# Classifiers\n",
    "# Logistic Regression Classifier\n",
    "#clf1 = LogisticRegression(penalty='l1', \n",
    "                          #C=1,\n",
    "                          #random_state=10, \n",
    "                          #solver='liblinear')\n",
    "clf1 = LogisticRegression()\n",
    "\n",
    "# Decision Tree Classifier\n",
    "#clf2 = DecisionTreeClassifier(max_depth=None,\n",
    "                              #criterion='gini',\n",
    "                              #min_samples_leaf = 1,\n",
    "                              #min_samples_split = 2,\n",
    "                              #random_state=10)\n",
    "clf2= DecisionTreeClassifier()\n",
    "\n",
    "# kNN Classifier\n",
    "#clf3 = KNeighborsClassifier(n_neighbors=1,\n",
    "                            #p=2,\n",
    "                            #metric='minkowski')\n",
    "        \n",
    "clf3= KNeighborsClassifier()\n",
    "\n",
    "# Label the classifiers\n",
    "clf_labels = ['Logistic Regression', 'Decision Tree', 'KNN']\n",
    "all_clf = [clf1, clf2, clf3]\n",
    "\n",
    "# Cross - Validation \n",
    "print('10-fold cross validation:\\n')\n",
    "for clf, label in zip([clf1, clf2, clf3], clf_labels): \n",
    "    scores = cross_val_score(estimator=clf,  \n",
    "                             X=X,\n",
    "                             y=y,\n",
    "                             cv=10,\n",
    "                             scoring='roc_auc')\n",
    "    print(\"ROC AUC: %0.2f (+/- %0.2f) [%s]\" \n",
    "          % (scores.mean(), scores.std(), label))\n",
    "\n",
    "#Visualization\n",
    "\n",
    "colors = [ 'orange', 'blue', 'green']     \n",
    "linestyles = [':', '--', '-.', '-']        \n",
    "for clf, label, clr, ls in zip(all_clf,\n",
    "               clf_labels, colors, linestyles):\n",
    "\n",
    "    \n",
    "    y_pred = clf.fit(X_train,\n",
    "                     y_train).predict_proba(X_test)[:, 1] \n",
    "    fpr, tpr, thresholds = roc_curve(y_true=y_test, \n",
    "                                     y_score=y_pred)\n",
    "    roc_auc = auc(x=fpr, y=tpr)               \n",
    "    plt.plot(fpr, tpr,                         \n",
    "             color=clr,\n",
    "             linestyle=ls,\n",
    "             label='%s (auc = %0.2f)' % (label, roc_auc))\n",
    "\n",
    "plt.legend(loc='lower right')    \n",
    "plt.plot([0, 1], [0, 1], \n",
    "         linestyle='--',\n",
    "         color='gray',\n",
    "         linewidth=2)\n",
    "\n",
    "plt.xlim([-0.1, 1.1])   \n",
    "plt.ylim([-0.1, 1.1])   \n",
    "plt.grid(alpha=0.5)\n",
    "plt.xlabel('False positive rate (FPR)')\n",
    "plt.ylabel('True positive rate (TPR)')\n",
    "\n",
    "plt.show()"
   ]
  }
 ],
 "metadata": {
  "kernelspec": {
   "display_name": "Python 3",
   "language": "python",
   "name": "python3"
  },
  "language_info": {
   "codemirror_mode": {
    "name": "ipython",
    "version": 3
   },
   "file_extension": ".py",
   "mimetype": "text/x-python",
   "name": "python",
   "nbconvert_exporter": "python",
   "pygments_lexer": "ipython3",
   "version": "3.7.3"
  }
 },
 "nbformat": 4,
 "nbformat_minor": 2
}
