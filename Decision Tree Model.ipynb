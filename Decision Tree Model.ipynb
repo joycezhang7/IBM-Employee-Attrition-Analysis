{
 "cells": [
  {
   "cell_type": "markdown",
   "metadata": {},
   "source": [
    "# Import Data"
   ]
  },
  {
   "cell_type": "code",
   "execution_count": 1,
   "metadata": {},
   "outputs": [],
   "source": [
    "import pandas as pd\n",
    "import numpy as np\n",
    "np.random.seed(42)\n",
    "IBMData = pd.read_csv('C:\\\\Users\\\\Joyce\\\\Desktop\\\\Emory MSBA\\\\Intro to BA\\\\IBM Project\\\\IBM-HR-Employee-Attrition.csv')\n",
    "\n",
    "\n",
    "IBMData['Attrition'] = IBMData['Attrition'].map({'Yes': 1, 'No': 0})\n",
    "\n",
    "#Remove unvalue attritbues\n",
    "IBMData = IBMData.drop(columns=['EmployeeNumber','StandardHours','Over18','EmployeeCount','Department','EducationField',\n",
    "                               'Gender','JobRole','YearsWithCurrManager'])\n",
    "\n",
    "#Some attributes are numerical in the dataset, but actually they are categorical \n",
    "IBMData['Education']=pd.Categorical(IBMData.Education)\n",
    "IBMData['EnvironmentSatisfaction']=pd.Categorical(IBMData.EnvironmentSatisfaction)\n",
    "IBMData['JobInvolvement']=pd.Categorical(IBMData.JobInvolvement)\n",
    "IBMData['JobLevel']=pd.Categorical(IBMData.JobLevel)\n",
    "IBMData['JobSatisfaction']=pd.Categorical(IBMData.JobSatisfaction)\n",
    "IBMData['PerformanceRating']=pd.Categorical(IBMData.PerformanceRating)\n",
    "IBMData['RelationshipSatisfaction']=pd.Categorical(IBMData.RelationshipSatisfaction)\n",
    "IBMData['WorkLifeBalance']=pd.Categorical(IBMData.WorkLifeBalance)\n",
    "IBMData['StockOptionLevel']=pd.Categorical(IBMData.StockOptionLevel)"
   ]
  },
  {
   "cell_type": "markdown",
   "metadata": {},
   "source": [
    "# Data Processing and Preparation"
   ]
  },
  {
   "cell_type": "code",
   "execution_count": 2,
   "metadata": {},
   "outputs": [],
   "source": [
    "IBMData['BusinessTravel'] = IBMData['BusinessTravel'].map({'Non-Travel': 0, 'Travel_Rarely': 1, 'Travel_Frequently': 2})\n",
    "IBMData['MaritalStatus'] = IBMData['MaritalStatus'].map({'Single': 0, 'Married': 1, 'Divorced': 2})\n",
    "IBMData['OverTime'] = IBMData['OverTime'].map({'No': 0, 'Yes': 1})\n",
    "\n",
    "\n",
    "FEATURE_NAMES = ['Age',\n",
    " 'BusinessTravel',\n",
    " 'DailyRate',\n",
    " 'DistanceFromHome',\n",
    " 'Education',\n",
    " 'HourlyRate',\n",
    " 'JobLevel',\n",
    " 'MaritalStatus',\n",
    " 'MonthlyIncome',\n",
    " 'MonthlyRate',\n",
    " 'NumCompaniesWorked',\n",
    " 'OverTime',\n",
    " 'PercentSalaryHike',\n",
    " 'PerformanceRating',\n",
    " 'StockOptionLevel',\n",
    "'TotalSatisfaction',\n",
    " 'TotalWorkingYears',\n",
    " 'TrainingTimesLastYear',\n",
    " 'YearsAtCompany',\n",
    " 'YearsInCurrentRole', \n",
    " 'DistanceFromHome',\n",
    " 'YearsSinceLastPromotion'\n",
    " ]"
   ]
  },
  {
   "cell_type": "markdown",
   "metadata": {},
   "source": [
    "## Feature Engineering"
   ]
  },
  {
   "cell_type": "code",
   "execution_count": 3,
   "metadata": {},
   "outputs": [],
   "source": [
    "IBMData['TotalSatisfaction'] = IBMData.loc[:, ['EnvironmentSatisfaction','JobInvolvement','JobSatisfaction',\n",
    "                                              'RelationshipSatisfaction','WorkLifeBalance']].sum(axis=1)\n",
    "IBMData['TotalSatisfaction'].describe()\n",
    "\n",
    "#Declare X and y\n",
    "X = IBMData[['Age',\n",
    " 'BusinessTravel',\n",
    " 'DailyRate',\n",
    " 'DistanceFromHome',\n",
    " 'Education',\n",
    " 'HourlyRate',\n",
    " 'JobLevel',\n",
    " 'MaritalStatus',\n",
    " 'MonthlyIncome',\n",
    " 'MonthlyRate',\n",
    " 'NumCompaniesWorked',\n",
    " 'OverTime',\n",
    " 'PercentSalaryHike',\n",
    " 'PerformanceRating',\n",
    " 'StockOptionLevel',\n",
    " 'TotalSatisfaction',\n",
    " 'TotalWorkingYears',\n",
    " 'TrainingTimesLastYear',\n",
    " 'YearsAtCompany',\n",
    " 'YearsInCurrentRole',\n",
    "'DistanceFromHome',\n",
    " 'YearsSinceLastPromotion'\n",
    "]].values\n",
    "y = IBMData['Attrition'].values"
   ]
  },
  {
   "cell_type": "markdown",
   "metadata": {},
   "source": [
    "## Balance Target Variable"
   ]
  },
  {
   "cell_type": "code",
   "execution_count": 4,
   "metadata": {},
   "outputs": [
    {
     "name": "stdout",
     "output_type": "stream",
     "text": [
      "Number of class 1 (Attrition) samples before: 237\n",
      "Number of class 1 (Attrition) samples after: 1233\n"
     ]
    }
   ],
   "source": [
    "from sklearn.utils import resample\n",
    "\n",
    "# Number of class 1 samples before\n",
    "print('Number of class 1 (Attrition) samples before:', X[y == 1].shape[0])\n",
    "\n",
    "X_upsampled, y_upsampled = resample(X[y == 1], # Indexable data-structures as input\n",
    "                                    y[y == 1],\n",
    "                                    replace=True,      # Implements resampling with replacement.\n",
    "                                    n_samples=X[y == 0].shape[0], # Number of samples to generate i.e., 357\n",
    "                                    random_state=42) # The seed of the pseudo random number generator to use when shuffling the data\n",
    "\n",
    "# Number of class 1 samples after oversampling rare class\n",
    "print('Number of class 1 (Attrition) samples after:', X_upsampled.shape[0])"
   ]
  },
  {
   "cell_type": "code",
   "execution_count": 5,
   "metadata": {},
   "outputs": [
    {
     "data": {
      "text/plain": [
       "50.0"
      ]
     },
     "execution_count": 5,
     "metadata": {},
     "output_type": "execute_result"
    }
   ],
   "source": [
    "# After resampling, we can stack the original class 0 with the upsampled class 1 subset to obtain a balanced dataset\n",
    "# as follows:\n",
    "\n",
    "X = np.vstack((X[y == 0], X_upsampled))\n",
    "y = np.hstack((y[y == 0], y_upsampled))\n",
    "\n",
    "# Consequently if we were to predict the accuracy of the model that always predicts the majority class ~50%\n",
    "y_pred = np.zeros(y.shape[0])\n",
    "np.mean(y_pred == y) * 100"
   ]
  },
  {
   "cell_type": "code",
   "execution_count": 15,
   "metadata": {},
   "outputs": [],
   "source": [
    "############################################## Split the Data ##############################################\n",
    "np.random.seed(42)\n",
    "from sklearn.model_selection import train_test_split\n",
    "\n",
    "X_train, X_test, y_train, y_test = train_test_split(\n",
    "    X, y, test_size=0.2, random_state=42, stratify=y)\n",
    "\n",
    "############################################# Normalization #############################################\n",
    "\n",
    "from  warnings import simplefilter\n",
    "from sklearn.exceptions import ConvergenceWarning\n",
    "simplefilter(\"ignore\", category=ConvergenceWarning)\n",
    "import warnings\n",
    "warnings.filterwarnings('always')  # \"error\", \"ignore\", \"always\", \"default\", \"module\" or \"once\"\n",
    "warnings.filterwarnings('ignore')\n",
    "\n",
    "\n",
    "from sklearn.preprocessing import StandardScaler # Standardize features by removing the mean and scaling to unit variance\n",
    "\n",
    "sc = StandardScaler()\n",
    "sc.fit(X_train) # Compute the mean and std to be used for later scaling.\n",
    "\n",
    "X_train_std = sc.transform(X_train) # Perform standardization of train set X by centering and scaling\n",
    "X_test_std = sc.transform(X_test) # Perform standardization of test set Xby centering and scaling"
   ]
  },
  {
   "cell_type": "markdown",
   "metadata": {},
   "source": [
    "# Decision Tree Model Building"
   ]
  },
  {
   "cell_type": "code",
   "execution_count": 7,
   "metadata": {},
   "outputs": [],
   "source": [
    "############################################# Normalization #############################################\n",
    "from  warnings import simplefilter\n",
    "from sklearn.exceptions import ConvergenceWarning\n",
    "simplefilter(\"ignore\", category=ConvergenceWarning)\n",
    "import warnings\n",
    "warnings.filterwarnings('always')  # \"error\", \"ignore\", \"always\", \"default\", \"module\" or \"once\"\n",
    "warnings.filterwarnings('ignore')\n",
    "\n",
    "\n",
    "from sklearn.preprocessing import StandardScaler # Standardize features by removing the mean and scaling to unit variance\n",
    "\n",
    "sc = StandardScaler()\n",
    "sc.fit(X_train) # Compute the mean and std to be used for later scaling.\n",
    "\n",
    "X_train_std = sc.transform(X_train) # Perform standardization of train set X by centering and scaling\n",
    "X_test_std = sc.transform(X_test) # Perform standardization of test set Xby centering and scaling"
   ]
  },
  {
   "cell_type": "markdown",
   "metadata": {},
   "source": [
    "## Cross Validation Estimation"
   ]
  },
  {
   "cell_type": "code",
   "execution_count": 23,
   "metadata": {},
   "outputs": [
    {
     "name": "stdout",
     "output_type": "stream",
     "text": [
      "Accuracy: 0.93 (+/- 0.03)\n",
      "[0.92 0.94 0.95 0.95 0.95 0.93 0.92 0.91 0.93 0.95]\n",
      "F1-score: 0.93 (+/- 0.02)\n",
      "[0.92 0.93 0.94 0.94 0.94 0.93 0.92 0.92 0.93 0.94]\n"
     ]
    }
   ],
   "source": [
    "import matplotlib.pyplot as plt\n",
    "from sklearn.tree import DecisionTreeClassifier\n",
    "from sklearn.model_selection import GridSearchCV, KFold, cross_val_score\n",
    "clf_dt = DecisionTreeClassifier() \n",
    "############################ Performance w/ Cross Validation ############################\n",
    "\n",
    "scores=cross_val_score(clf_dt, X=X, y=y, cv=10)\n",
    "print(\"Accuracy: %0.2f (+/- %0.2f)\" % (scores.mean(), scores.std() * 2))\n",
    "print(scores) # print accuracy for each iteration of cross-validation\n",
    "\n",
    "\n",
    "scores_f1=cross_val_score(clf_dt, X=X, y=y, cv=10, scoring='f1_macro')\n",
    "print(\"F1-score: %0.2f (+/- %0.2f)\" % (scores_f1.mean(), scores_f1.std() * 2))\n",
    "print(scores_f1) # print f1-score for each iteration of cross-validation"
   ]
  },
  {
   "cell_type": "markdown",
   "metadata": {},
   "source": [
    "## Learning Curve"
   ]
  },
  {
   "cell_type": "code",
   "execution_count": 9,
   "metadata": {},
   "outputs": [
    {
     "data": {
      "image/png": "[encoded data removed]",
      "text/plain": [
       "<Figure size 432x288 with 1 Axes>"
      ]
     },
     "metadata": {
      "needs_background": "light"
     },
     "output_type": "display_data"
    }
   ],
   "source": [
    "from sklearn.model_selection import validation_curve\n",
    "\n",
    "############################# Parameters - Varying Complexity #############################\n",
    "\n",
    "param_range = [4,6,8,10,12,14,16,18,20,22,24]\n",
    "\n",
    "########################## Estimate Scores - Varying Complexity ##########################\n",
    "\n",
    "# Determine training and test scores for varying parameter values.\n",
    "train_scores, test_scores = validation_curve( \n",
    "                estimator=DecisionTreeClassifier(),\n",
    "                X=X_train, \n",
    "                y=y_train, \n",
    "                param_name=\"max_depth\", \n",
    "                param_range=param_range,\n",
    "                cv=5,     \n",
    "                scoring=\"accuracy\", \n",
    "                n_jobs=4) \n",
    "\n",
    "# Cross validation statistics for training and testing data (mean and standard deviation)\n",
    "train_mean = np.mean(train_scores, axis=1) # Compute the arithmetic mean along the specified axis.\n",
    "train_std = np.std(train_scores, axis=1)   # Compute the standard deviation along the specified axis.\n",
    "test_mean = np.mean(test_scores, axis=1)\n",
    "test_std = np.std(test_scores, axis=1)\n",
    "\n",
    "############################## Visualization - Fitting Graph ##############################\n",
    "\n",
    "# Plot train accuracy means of cross-validation for all the parameters C in param_range\n",
    "plt.plot(param_range, train_mean, \n",
    "         color='blue', marker='o', \n",
    "         markersize=5, label='training accuracy')\n",
    "\n",
    "# Fill the area around the line to indicate the size of standard deviations of performance for the training data\n",
    "plt.fill_between(param_range, train_mean + train_std,\n",
    "                 train_mean - train_std, alpha=0.15,\n",
    "                 color='blue')\n",
    "\n",
    "# Plot test accuracy means of cross-validation for all the parameters C in param_range\n",
    "plt.plot(param_range, test_mean, \n",
    "         color='green', linestyle='--', \n",
    "         marker='s', markersize=5, \n",
    "         label='validation accuracy')\n",
    "\n",
    "# Fill the area around the line to indicate the size of standard deviations of performance for the test data\n",
    "plt.fill_between(param_range, \n",
    "                 test_mean + test_std,\n",
    "                 test_mean - test_std, \n",
    "                 alpha=0.15, color='green')\n",
    "\n",
    "# Grid and Axes Titles\n",
    "plt.grid()\n",
    "#plt.xscale('log')\n",
    "plt.legend(loc='lower right')\n",
    "plt.xlabel('Parameter Number of Tree Nodes')\n",
    "plt.ylabel('Accuracy')\n",
    "plt.ylim([0.6, 1.0]) # y limits in the plot\n",
    "plt.tight_layout()\n",
    "# plt.savefig('Fitting_graph_LR.png', dpi=300)\n",
    "plt.show()           # Display the figure"
   ]
  },
  {
   "cell_type": "markdown",
   "metadata": {},
   "source": [
    "## Grid Search Parameter Tuning With Nested Cross Validation"
   ]
  },
  {
   "cell_type": "code",
   "execution_count": null,
   "metadata": {},
   "outputs": [],
   "source": [
    "from sklearn.model_selection import GridSearchCV, KFold, cross_val_score\n",
    "from sklearn.preprocessing import StandardScaler\n",
    "\n",
    "np.random.seed(42)\n",
    "\n",
    "inner_cv = KFold(n_splits=5, shuffle=True)\n",
    "outer_cv = KFold(n_splits=5, shuffle=True)\n",
    "\n",
    "# Choosing optimal depth of the tree: Basic Model\n",
    "gs = GridSearchCV(estimator=DecisionTreeClassifier(random_state=42),\n",
    "                  param_grid=[{'max_depth': [1, 2, 3, 4, 5, 6, 7, None]}],\n",
    "                  scoring='accuracy', # Specifying f1 score for evaluation\n",
    "                  cv=inner_cv)\n",
    "\n",
    "gs = gs.fit(X,y)\n",
    "print(\"Decision Tree Parameter Tuning #1\")\n",
    "print(\"Non-nested CV Accuracy: \", gs.best_score_)\n",
    "print(\"Optimal Parameter: \", gs.best_params_)   \n",
    "print(\"Optimal Estimator: \", gs.best_estimator_) \n",
    "nested_score_gs = cross_val_score(gs, X=X, y=y, cv=outer_cv)\n",
    "print(\"Nested CV Accuracy: \",nested_score_gs.mean(), \" +/- \", nested_score_gs.std())\n",
    "\n",
    "\n",
    "gs_dt = GridSearchCV(estimator=DecisionTreeClassifier(random_state=42),\n",
    "                  param_grid=[{'max_depth': [10,11,12,13,14,15,16,17, None], 'criterion':['gini','entropy'], \n",
    "                               'splitter':['best','random'],\n",
    "                               'min_samples_leaf':[1,2,3,4,5],\n",
    "                               'min_impurity_decrease':[0.00001,0.0001,0.001],\n",
    "                               'min_samples_split':[2,3,4,5]}],\n",
    "                  scoring='accuracy', # Specifying f1 score for evaluation\n",
    "                  cv=inner_cv,\n",
    "                  n_jobs=4)\n",
    "\n",
    "gs_dt = gs_dt.fit(X,y)\n",
    "print(\"\\n Decision Tree Parameter Tuning #2\")\n",
    "print(\"Non-nested CV Accuracy Score: \", gs_dt.best_score_)\n",
    "print(\"Optimal Parameter: \", gs_dt.best_params_)\n",
    "print(\"Optimal Estimator: \", gs_dt.best_estimator_)\n",
    "nested_score_gs_dt = cross_val_score(gs_dt, X=X, y=y, cv=outer_cv)\n",
    "print(\"Nested CV Accuracy Score: \",nested_score_gs_dt.mean(), \" +/- \", nested_score_gs_dt.std())"
   ]
  },
  {
   "cell_type": "markdown",
   "metadata": {},
   "source": [
    "## Optimal Model with Accuracy and AUC Score"
   ]
  },
  {
   "cell_type": "code",
   "execution_count": 10,
   "metadata": {},
   "outputs": [
    {
     "name": "stdout",
     "output_type": "stream",
     "text": [
      "Accuracy: 0.9473684210526315\n"
     ]
    }
   ],
   "source": [
    "from sklearn import tree\n",
    "from sklearn.tree import DecisionTreeClassifier\n",
    "clf = tree.DecisionTreeClassifier(criterion='gini', max_depth=16,\n",
    "            max_features=None, max_leaf_nodes=None, \n",
    "            min_samples_leaf=1, min_samples_split=2,\n",
    "            min_weight_fraction_leaf=0.0, presort=False, random_state=42,\n",
    "            splitter='random'\n",
    "            )\n",
    "y_pred = clf.fit(X_train, y_train).predict(X_test)\n",
    "\n",
    "#Predictive Accuracy \n",
    "import sklearn.metrics as metrics\n",
    "print(\"Accuracy:\", metrics.accuracy_score(y_test, y_pred))\n",
    "\n",
    "from sklearn.metrics import roc_curve\n",
    "from sklearn.metrics import auc\n",
    "from sklearn.model_selection import GridSearchCV, KFold, cross_val_score\n",
    "clf_labels = ['Decision tree']\n"
   ]
  },
  {
   "cell_type": "code",
   "execution_count": 11,
   "metadata": {},
   "outputs": [
    {
     "name": "stdout",
     "output_type": "stream",
     "text": [
      "10-fold cross validation:\n",
      "\n",
      "ROC AUC: 0.929 (+/- 0.016) [Decision tree]\n"
     ]
    }
   ],
   "source": [
    "#################################### Cross - Validation In AUC Score ####################################\n",
    "\n",
    "print('10-fold cross validation:\\n')\n",
    "for clf, label in zip([clf], clf_labels): #For all classifiers \n",
    "    scores = cross_val_score(estimator=clf,  #Estimate AUC based on cross validation\n",
    "                             X=X,\n",
    "                             y=y,\n",
    "                             cv=10,\n",
    "                             scoring='roc_auc')\n",
    "    print(\"ROC AUC: %0.3f (+/- %0.3f) [%s]\" #Print peformance statistics based on cross-validation\n",
    "          % (scores.mean(), scores.std(), label))"
   ]
  },
  {
   "cell_type": "markdown",
   "metadata": {},
   "source": [
    "## Evaluate the Tree with Confusion Matrix and Other Metrics"
   ]
  },
  {
   "cell_type": "code",
   "execution_count": 21,
   "metadata": {},
   "outputs": [
    {
     "name": "stdout",
     "output_type": "stream",
     "text": [
      "1 [0. 1.] 1.0\n",
      "Normalized confusion matrix\n",
      "[[0.89 0.11]\n",
      " [0.   1.  ]]\n"
     ]
    },
    {
     "data": {
      "image/png": "[encoded data removed]",
      "text/plain": [
       "<Figure size 432x288 with 2 Axes>"
      ]
     },
     "metadata": {
      "needs_background": "light"
     },
     "output_type": "display_data"
    },
    {
     "name": "stdout",
     "output_type": "stream",
     "text": [
      "Accuracy (out-of-sample): 0.947\n",
      "F1 score (out-of-sample): 0.947\n",
      "              precision    recall  f1-score   support\n",
      "\n",
      "   Attrition       1.00      0.89      0.94       247\n",
      "No Attrition       0.90      1.00      0.95       247\n",
      "\n",
      "   micro avg       0.95      0.95      0.95       494\n",
      "   macro avg       0.95      0.95      0.95       494\n",
      "weighted avg       0.95      0.95      0.95       494\n",
      "\n"
     ]
    }
   ],
   "source": [
    "################################### Evaluate the Decision Tree Model ##################################\n",
    "#confusion matrix\n",
    "\n",
    "# Plot non-normalized confusion matrix\n",
    "from sklearn.metrics import confusion_matrix\n",
    "import itertools\n",
    "from sklearn.metrics import accuracy_score, f1_score, classification_report\n",
    "import matplotlib.pyplot as plt\n",
    "\n",
    "y_pred = clf.predict(X_test)             # Classification prediction\n",
    "y_pred_prob = clf.predict_proba(X_test)  # Class probabilities\n",
    "y_pred_insample = clf.predict(X_train)\n",
    "print(y_pred[0], y_pred_prob[0], np.sum(y_pred_prob[0]))\n",
    "\n",
    "\n",
    "def plot_confusion_matrix(cm, classes,\n",
    "                          normalize=False,\n",
    "                          title='Confusion matrix',\n",
    "                          cmap=plt.cm.Blues):\n",
    "    \"\"\"\n",
    "    This function prints and plots the confusion matrix.\n",
    "    Normalization can be applied by setting `normalize=True`.\n",
    "    \"\"\"\n",
    "    if normalize:\n",
    "        cm = cm.astype('float') / cm.sum(axis=1)[:, np.newaxis]\n",
    "        print(\"Normalized confusion matrix\")\n",
    "    else:\n",
    "        print('Confusion matrix, without normalization')\n",
    "\n",
    "    print(cm)\n",
    "\n",
    "    plt.imshow(cm, interpolation='nearest', cmap=cmap)\n",
    "    plt.title(title)\n",
    "    plt.colorbar()\n",
    "    tick_marks = np.arange(len(classes))\n",
    "    plt.xticks(tick_marks, classes, rotation=45)\n",
    "    plt.yticks(tick_marks, classes)\n",
    "\n",
    "    fmt = '.2f' if normalize else 'd'\n",
    "    thresh = cm.max() / 2.\n",
    "    for i, j in itertools.product(range(cm.shape[0]), range(cm.shape[1])):\n",
    "        plt.text(j, i, format(cm[i, j], fmt),\n",
    "                 horizontalalignment=\"center\",\n",
    "                 color=\"white\" if cm[i, j] > thresh else \"black\")\n",
    "\n",
    "    plt.tight_layout()\n",
    "    plt.ylabel('True label')\n",
    "    plt.xlabel('Predicted label')\n",
    "    \n",
    "# Compute confusion matrix to evaluate the accuracy of a classification    \n",
    "cnf_matrix = confusion_matrix(y_test, y_pred)\n",
    "np.set_printoptions(precision=2)\n",
    "\n",
    "plt.figure()\n",
    "plot_confusion_matrix(cnf_matrix, classes=['No Attrition','Attrition'], normalize=True,\n",
    "                      title='Normalized Confusion matrix')\n",
    "plt.show()\n",
    "\n",
    "# Accuracy\n",
    "print('Accuracy (out-of-sample): %.3f' % accuracy_score(y_test, y_pred))\n",
    "\n",
    "# F1 score\n",
    "print('F1 score (out-of-sample): %.3f' %  f1_score(y_test, y_pred, average='macro'))\n",
    "\n",
    "\n",
    "# Build a text report showing the main classification metrics (out-of-sample performance)\n",
    "print(classification_report(y_test, y_pred, target_names=['Attrition','No Attrition']))"
   ]
  },
  {
   "cell_type": "markdown",
   "metadata": {},
   "source": [
    "# Visualization of the Decision Tree"
   ]
  },
  {
   "cell_type": "code",
   "execution_count": null,
   "metadata": {},
   "outputs": [],
   "source": [
    "# Where to save the figures\n",
    "PROJECT_ROOT_DIR = \".\"\n",
    "CHAPTER_ID = \"decision_trees\"\n",
    "\n",
    "# Define path of an image\n",
    "# Function that takes as input fig_id and returns back the image path\n",
    "def image_path(fig_id):\n",
    "    return os.path.join(PROJECT_ROOT_DIR, \"images\", CHAPTER_ID, fig_id)\n",
    "\n",
    "# Save image in a specific path\n",
    "# Function that takes as input fig_id and saves the image in a specific format (i.e., png, 300 dpi)\n",
    "def save_fig(fig_id, tight_layout=True):\n",
    "    print(\"Saving figure\", fig_id)\n",
    "    if tight_layout:\n",
    "        plt.tight_layout()\n",
    "    plt.savefig(image_path(fig_id) + \".png\", format='png', dpi=300)"
   ]
  },
  {
   "cell_type": "code",
   "execution_count": null,
   "metadata": {},
   "outputs": [],
   "source": [
    "!dot -Tpng IBMFinal_tree.dot -o IBMFinal_tree.png"
   ]
  },
  {
   "cell_type": "code",
   "execution_count": null,
   "metadata": {},
   "outputs": [],
   "source": [
    "######################################### Imports #########################################\n",
    "\n",
    "from sklearn.tree import export_graphviz\n",
    "# If you don't have graphviz package, you need to install it https://anaconda.org/anaconda/graphviz\n",
    "# How to install Graphviz with Anaconda https://anaconda.org/anaconda/graphviz\n",
    "# conda install -c anaconda graphviz \n",
    "\n",
    "from IPython.display import Image\n",
    "import os\n",
    "# ATTENTION: You need to change the working directory\n",
    "# For instance, when running the script on my local computer, I had to change it to:\n",
    "# os.chdir(\"/Users/vtodri/Dropbox/Vilma/Teaching/Emory/Fall/MSBA/Lectures/Week 2\")\n",
    "os.chdir(\"C:\\\\Users\\\\Joyce\\\\Desktop\\\\Emory MSBA\\\\Intro to BA\\\\IBM Project\")\n",
    "\n",
    "# make the images and decision_trees path in order for image_path to work\n",
    "if not os.path.exists('./images/decision_trees'):\n",
    "    os.makedirs('./images/decision_trees')\n",
    "# You can visualize the trained Decision Tree by first using the export_graphviz()\n",
    "# method to output a graph definition file called iris_tree.dot\n",
    "\n",
    "################################# Visualization of Decision Tree ##########################\n",
    "\n",
    "export_graphviz(\n",
    "        clf,\n",
    "        out_file=image_path(\"IBMFinal_tree.dot\"),\n",
    "        feature_names=FEATURE_NAMES,\n",
    "        class_names=[\"No Attrition\",\"Attrition\"],\n",
    "        rounded=True,\n",
    "        filled=True\n",
    "    )\n",
    "\n",
    "# Then you can convert this .dot file to a variety of formats such as PDF or PNG using\n",
    "# the dot command-line tool from the graphviz package.\n",
    "\n",
    "# change working directory again to where the iris_tree.dot file will be made\n",
    "# set the working directory to be within the newly created ./images/decision_trees\n",
    "os.chdir(\"./images/decision_trees\")\n",
    "\n",
    "# Note: Graphviz is an open source graph visualization software package, available at http://www.graphviz.org/\n",
    "# Converting .dot file to PNG Example: Run command \"dot -Tpng iris_tree.dot -o iris_tree.png\" in the terminal after installing graphviz package \n",
    "# and making sure you are in the right directory (same directory as the .dot file)\n",
    "\n",
    "#print(os.getcwd())\n",
    "path_png = os.path.join(PROJECT_ROOT_DIR, \"images\", CHAPTER_ID, \"IBMFinal_tree.png\")\n",
    "Image(filename=\"IBMFinal_tree.png\")"
   ]
  },
  {
   "cell_type": "code",
   "execution_count": 31,
   "metadata": {},
   "outputs": [
    {
     "data": {
      "image/png": "[encoded data removed]",
      "text/plain": [
       "<Figure size 432x288 with 1 Axes>"
      ]
     },
     "metadata": {
      "needs_background": "light"
     },
     "output_type": "display_data"
    }
   ],
   "source": [
    "###Visualize the feature importance based on the tree\n",
    "import matplotlib.pyplot as plt\n",
    "clf.fit(X,y)\n",
    "importance = clf.feature_importances_\n",
    "# Sort feature importances in descending order\n",
    "indices = np.argsort(importance)[::-1]\n",
    "\n",
    "# Rearrange feature names so they match the sorted feature importances\n",
    "names = [FEATURE_NAMES[i] for i in indices]\n",
    "\n",
    "# Create plot\n",
    "plt.figure()\n",
    "\n",
    "# Create plot title\n",
    "plt.title(\"Feature Importance From Decision Tree\")\n",
    "\n",
    "# Add bars\n",
    "plt.bar(range(X.shape[1]), importance[indices])\n",
    "\n",
    "# Add feature names as x-axis labels\n",
    "plt.xticks(range(X.shape[1]), names, rotation=90)\n",
    "\n",
    "# Show plot\n",
    "plt.show()"
   ]
  },
  {
   "cell_type": "markdown",
   "metadata": {},
   "source": [
    "# Cumulative Gains Curve"
   ]
  },
  {
   "cell_type": "code",
   "execution_count": 24,
   "metadata": {},
   "outputs": [
    {
     "data": {
      "text/plain": [
       "<matplotlib.axes._subplots.AxesSubplot at 0x1350f88ba58>"
      ]
     },
     "execution_count": 24,
     "metadata": {},
     "output_type": "execute_result"
    },
    {
     "data": {
      "image/png": "[encoded data removed]",
      "text/plain": [
       "<Figure size 432x288 with 1 Axes>"
      ]
     },
     "metadata": {
      "needs_background": "light"
     },
     "output_type": "display_data"
    }
   ],
   "source": [
    "import scikitplot as skplt\n",
    "# Deriving Class probabilities\n",
    "predicted_probabilities = clf.predict_proba(X_test)\n",
    "# Creating the plot\n",
    "skplt.metrics.plot_cumulative_gain(y_test, predicted_probabilities)\n",
    "\n",
    "\n",
    "#skplt.metrics.plot_cumulative_gain(true_values, predictions)\n",
    "#plt.show()"
   ]
  },
  {
   "cell_type": "code",
   "execution_count": 27,
   "metadata": {},
   "outputs": [
    {
     "data": {
      "text/plain": [
       "<matplotlib.axes._subplots.AxesSubplot at 0x1350f988358>"
      ]
     },
     "execution_count": 27,
     "metadata": {},
     "output_type": "execute_result"
    },
    {
     "data": {
      "image/png": "[encoded data removed]",
      "text/plain": [
       "<Figure size 432x288 with 1 Axes>"
      ]
     },
     "metadata": {
      "needs_background": "light"
     },
     "output_type": "display_data"
    }
   ],
   "source": [
    "#Scikitplot library is there to help\n",
    "skplt.metrics.plot_lift_curve(y_test, predicted_probabilities)"
   ]
  },
  {
   "cell_type": "code",
   "execution_count": 30,
   "metadata": {},
   "outputs": [
    {
     "name": "stdout",
     "output_type": "stream",
     "text": [
      "10-fold cross validation:\n",
      "\n",
      "ROC AUC: 0.93 (+/- 0.02) [Decision Tree]\n"
     ]
    },
    {
     "data": {
      "image/png": "[encoded data removed]",
      "text/plain": [
       "<Figure size 432x288 with 1 Axes>"
      ]
     },
     "metadata": {
      "needs_background": "light"
     },
     "output_type": "display_data"
    }
   ],
   "source": [
    "import numpy as np\n",
    "from sklearn.linear_model import LogisticRegression\n",
    "from sklearn.tree import DecisionTreeClassifier\n",
    "from sklearn.neighbors import KNeighborsClassifier \n",
    "from sklearn.metrics import roc_curve\n",
    "from sklearn.metrics import auc\n",
    "from sklearn.model_selection import GridSearchCV, KFold, cross_val_score\n",
    "import matplotlib.pyplot as plt\n",
    "\n",
    "from  warnings import simplefilter\n",
    "from sklearn.exceptions import ConvergenceWarning\n",
    "simplefilter(\"ignore\", category=ConvergenceWarning)\n",
    "import warnings\n",
    "warnings.filterwarnings('always')  # \"error\", \"ignore\", \"always\", \"default\", \"module\" or \"once\"\n",
    "warnings.filterwarnings('ignore')\n",
    "\n",
    "\n",
    "# Label the classifiers\n",
    "clf_labels = ['Decision Tree']\n",
    "all_clf = [clf]\n",
    "\n",
    "# Cross - Validation \n",
    "print('10-fold cross validation:\\n')\n",
    "for clf, label in zip([clf], clf_labels): \n",
    "    scores = cross_val_score(estimator=clf,  \n",
    "                             X=X,\n",
    "                             y=y,\n",
    "                             cv=10,\n",
    "                             scoring='roc_auc')\n",
    "    print(\"ROC AUC: %0.2f (+/- %0.2f) [%s]\" \n",
    "          % (scores.mean(), scores.std(), label))\n",
    "\n",
    "#Visualization\n",
    "\n",
    "colors = ['blue']     \n",
    "linestyles = [':', '--', '-.', '-']        \n",
    "for clf, label, clr, ls in zip(all_clf,\n",
    "               clf_labels, colors, linestyles):\n",
    "\n",
    "    \n",
    "    y_pred = clf.fit(X_train,\n",
    "                     y_train).predict_proba(X_test)[:, 1] \n",
    "    fpr, tpr, thresholds = roc_curve(y_true=y_test, \n",
    "                                     y_score=y_pred)\n",
    "    roc_auc = auc(x=fpr, y=tpr)               \n",
    "    plt.plot(fpr, tpr,                         \n",
    "             color=clr,\n",
    "             linestyle=ls,\n",
    "             label='%s (auc = %0.2f)' % (label, roc_auc))\n",
    "\n",
    "plt.legend(loc='lower right')    \n",
    "plt.plot([0, 1], [0, 1], \n",
    "         linestyle='--',\n",
    "         color='gray',\n",
    "         linewidth=2)\n",
    "\n",
    "plt.xlim([-0.1, 1.1])   \n",
    "plt.ylim([-0.1, 1.1])   \n",
    "plt.grid(alpha=0.5)\n",
    "plt.xlabel('False positive rate (FPR)')\n",
    "plt.ylabel('True positive rate (TPR)')\n",
    "\n",
    "plt.show()"
   ]
  }
 ],
 "metadata": {
  "kernelspec": {
   "display_name": "Python 3",
   "language": "python",
   "name": "python3"
  },
  "language_info": {
   "codemirror_mode": {
    "name": "ipython",
    "version": 3
   },
   "file_extension": ".py",
   "mimetype": "text/x-python",
   "name": "python",
   "nbconvert_exporter": "python",
   "pygments_lexer": "ipython3",
   "version": "3.7.3"
  }
 },
 "nbformat": 4,
 "nbformat_minor": 2
}
